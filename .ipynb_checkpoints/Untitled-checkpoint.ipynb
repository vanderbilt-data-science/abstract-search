{
 "cells": [
  {
   "cell_type": "code",
   "execution_count": 1,
   "id": "c0c566c2",
   "metadata": {
    "colab": {
     "base_uri": "https://localhost:8080/"
    },
    "id": "2z9fs1OcXP39",
    "outputId": "520805f8-a142-45f8-eadd-9ea896e7275c"
   },
   "outputs": [
    {
     "name": "stderr",
     "output_type": "stream",
     "text": [
      "2022-03-10 16:25:14.510 INFO    numexpr.utils: NumExpr defaulting to 4 threads.\n"
     ]
    }
   ],
   "source": [
    "import streamlit as st\n",
    "import time\n",
    "import pandas as pd\n",
    "import numpy as np\n",
    "import plotly.express as px\n",
    "from plotly.subplots import make_subplots\n",
    "import plotly.graph_objects as go\n",
    "import matplotlib.pyplot as plt"
   ]
  },
  {
   "cell_type": "code",
   "execution_count": 13,
   "id": "44c6a200",
   "metadata": {
    "colab": {
     "base_uri": "https://localhost:8080/"
    },
    "id": "FrNS69RqXQck",
    "outputId": "e5aa71a4-fa79-4f66-b72e-db636647f433"
   },
   "outputs": [
    {
     "name": "stdout",
     "output_type": "stream",
     "text": [
      "/content/gdrive/MyDrive/Transformers\n"
     ]
    }
   ],
   "source": [
    "import os\n",
    "df=pd.read_csv('../Data/pcos_without_infertility.csv')"
   ]
  },
  {
   "cell_type": "code",
   "execution_count": 2,
   "id": "394fd218",
   "metadata": {
    "colab": {
     "base_uri": "https://localhost:8080/"
    },
    "id": "cMkwwzoDM4oB",
    "outputId": "56efdf2f-8f02-4e91-be8d-52fa4ad1f789",
    "scrolled": true
   },
   "outputs": [
    {
     "name": "stdout",
     "output_type": "stream",
     "text": [
      "\u001b[33mDEPRECATION: Configuring installation scheme with distutils config files is deprecated and will no longer work in the near future. If you are using a Homebrew or Linuxbrew Python, please see discussion at https://github.com/Homebrew/homebrew-core/issues/76621\u001b[0m\u001b[33m\n",
      "\u001b[0mCollecting sentence-transformers\n",
      "  Downloading sentence-transformers-2.2.0.tar.gz (79 kB)\n",
      "\u001b[2K     \u001b[90m━━━━━━━━━━━━━━━━━━━━━━━━━━━━━━━━━━━━━━━\u001b[0m \u001b[32m79.7/79.7 KB\u001b[0m \u001b[31m743.8 kB/s\u001b[0m eta \u001b[36m0:00:00\u001b[0m \u001b[36m0:00:01\u001b[0m\n",
      "\u001b[?25h  Preparing metadata (setup.py) ... \u001b[?25ldone\n",
      "\u001b[?25hCollecting transformers<5.0.0,>=4.6.0\n",
      "  Downloading transformers-4.17.0-py3-none-any.whl (3.8 MB)\n",
      "\u001b[2K     \u001b[90m━━━━━━━━━━━━━━━━━━━━━━━━━━━━━━━━━━━━━━━━\u001b[0m \u001b[32m3.8/3.8 MB\u001b[0m \u001b[31m23.7 MB/s\u001b[0m eta \u001b[36m0:00:00\u001b[0m00:01\u001b[0m00:01\u001b[0m\n",
      "\u001b[?25hRequirement already satisfied: tqdm in /usr/local/lib/python3.9/site-packages (from sentence-transformers) (4.62.3)\n",
      "Collecting torch>=1.6.0\n",
      "  Downloading torch-1.11.0-cp39-none-macosx_10_9_x86_64.whl (129.9 MB)\n",
      "\u001b[2K     \u001b[90m━━━━━━━━━━━━━━━━━━━━━━━━━━━━━━━━━━━━━━\u001b[0m \u001b[32m129.9/129.9 MB\u001b[0m \u001b[31m14.4 MB/s\u001b[0m eta \u001b[36m0:00:00\u001b[0m00:01\u001b[0m00:01\u001b[0m\n",
      "\u001b[?25hCollecting torchvision\n",
      "  Downloading torchvision-0.12.0-cp39-cp39-macosx_10_9_x86_64.whl (1.2 MB)\n",
      "\u001b[2K     \u001b[90m━━━━━━━━━━━━━━━━━━━━━━━━━━━━━━━━━━━━━━━━\u001b[0m \u001b[32m1.2/1.2 MB\u001b[0m \u001b[31m27.6 MB/s\u001b[0m eta \u001b[36m0:00:00\u001b[0m00:01\u001b[0m\n",
      "\u001b[?25hRequirement already satisfied: numpy in /usr/local/lib/python3.9/site-packages (from sentence-transformers) (1.20.3)\n",
      "Requirement already satisfied: scikit-learn in /usr/local/lib/python3.9/site-packages (from sentence-transformers) (0.24.2)\n",
      "Requirement already satisfied: scipy in /usr/local/lib/python3.9/site-packages (from sentence-transformers) (1.7.1)\n",
      "Collecting nltk\n",
      "  Downloading nltk-3.7-py3-none-any.whl (1.5 MB)\n",
      "\u001b[2K     \u001b[90m━━━━━━━━━━━━━━━━━━━━━━━━━━━━━━━━━━━━━━━━\u001b[0m \u001b[32m1.5/1.5 MB\u001b[0m \u001b[31m29.8 MB/s\u001b[0m eta \u001b[36m0:00:00\u001b[0m00:01\u001b[0m\n",
      "\u001b[?25hCollecting sentencepiece\n",
      "  Using cached sentencepiece-0.1.96-cp39-cp39-macosx_10_6_x86_64.whl (1.1 MB)\n",
      "Requirement already satisfied: huggingface-hub in /usr/local/lib/python3.9/site-packages (from sentence-transformers) (0.4.0)\n",
      "Requirement already satisfied: typing-extensions in /Users/peterbusienei/Library/Python/3.9/lib/python/site-packages (from torch>=1.6.0->sentence-transformers) (3.10.0.2)\n",
      "Requirement already satisfied: packaging>=20.0 in /usr/local/lib/python3.9/site-packages (from transformers<5.0.0,>=4.6.0->sentence-transformers) (21.0)\n",
      "Requirement already satisfied: requests in /usr/local/lib/python3.9/site-packages (from transformers<5.0.0,>=4.6.0->sentence-transformers) (2.26.0)\n",
      "Collecting tokenizers!=0.11.3,>=0.11.1\n",
      "  Downloading tokenizers-0.11.6-cp39-cp39-macosx_10_11_x86_64.whl (3.6 MB)\n",
      "\u001b[2K     \u001b[90m━━━━━━━━━━━━━━━━━━━━━━━━━━━━━━━━━━━━━━━━\u001b[0m \u001b[32m3.6/3.6 MB\u001b[0m \u001b[31m28.2 MB/s\u001b[0m eta \u001b[36m0:00:00\u001b[0m00:01\u001b[0m00:01\u001b[0m\n",
      "\u001b[?25hRequirement already satisfied: pyyaml>=5.1 in /usr/local/lib/python3.9/site-packages (from transformers<5.0.0,>=4.6.0->sentence-transformers) (5.4.1)\n",
      "Collecting sacremoses\n",
      "  Downloading sacremoses-0.0.47-py2.py3-none-any.whl (895 kB)\n",
      "\u001b[2K     \u001b[90m━━━━━━━━━━━━━━━━━━━━━━━━━━━━━━━━━━━━━━\u001b[0m \u001b[32m895.2/895.2 KB\u001b[0m \u001b[31m32.8 MB/s\u001b[0m eta \u001b[36m0:00:00\u001b[0m\n",
      "\u001b[?25hRequirement already satisfied: filelock in /usr/local/lib/python3.9/site-packages (from transformers<5.0.0,>=4.6.0->sentence-transformers) (3.4.2)\n",
      "Collecting regex!=2019.12.17\n",
      "  Downloading regex-2022.3.2-cp39-cp39-macosx_10_9_x86_64.whl (288 kB)\n",
      "\u001b[2K     \u001b[90m━━━━━━━━━━━━━━━━━━━━━━━━━━━━━━━━━━━━━━\u001b[0m \u001b[32m289.0/289.0 KB\u001b[0m \u001b[31m20.7 MB/s\u001b[0m eta \u001b[36m0:00:00\u001b[0m\n",
      "\u001b[?25hRequirement already satisfied: joblib in /usr/local/lib/python3.9/site-packages (from nltk->sentence-transformers) (1.0.1)\n",
      "Requirement already satisfied: click in /usr/local/lib/python3.9/site-packages (from nltk->sentence-transformers) (7.1.2)\n",
      "Requirement already satisfied: threadpoolctl>=2.0.0 in /usr/local/lib/python3.9/site-packages (from scikit-learn->sentence-transformers) (2.2.0)\n",
      "Collecting pillow!=8.3.*,>=5.3.0\n",
      "  Downloading Pillow-9.0.1-cp39-cp39-macosx_10_10_x86_64.whl (3.0 MB)\n",
      "\u001b[2K     \u001b[90m━━━━━━━━━━━━━━━━━━━━━━━━━━━━━━━━━━━━━━━━\u001b[0m \u001b[32m3.0/3.0 MB\u001b[0m \u001b[31m33.2 MB/s\u001b[0m eta \u001b[36m0:00:00\u001b[0m00:01\u001b[0m00:01\u001b[0m\n",
      "\u001b[?25hRequirement already satisfied: pyparsing>=2.0.2 in /usr/local/lib/python3.9/site-packages (from packaging>=20.0->transformers<5.0.0,>=4.6.0->sentence-transformers) (2.4.7)\n",
      "Requirement already satisfied: urllib3<1.27,>=1.21.1 in /usr/local/lib/python3.9/site-packages (from requests->transformers<5.0.0,>=4.6.0->sentence-transformers) (1.26.6)\n",
      "Requirement already satisfied: certifi>=2017.4.17 in /usr/local/lib/python3.9/site-packages (from requests->transformers<5.0.0,>=4.6.0->sentence-transformers) (2021.5.30)\n",
      "Requirement already satisfied: charset-normalizer~=2.0.0 in /usr/local/lib/python3.9/site-packages (from requests->transformers<5.0.0,>=4.6.0->sentence-transformers) (2.0.4)\n",
      "Requirement already satisfied: idna<4,>=2.5 in /usr/local/lib/python3.9/site-packages (from requests->transformers<5.0.0,>=4.6.0->sentence-transformers) (3.2)\n",
      "Requirement already satisfied: six in /usr/local/lib/python3.9/site-packages (from sacremoses->transformers<5.0.0,>=4.6.0->sentence-transformers) (1.16.0)\n",
      "Building wheels for collected packages: sentence-transformers\n",
      "  Building wheel for sentence-transformers (setup.py) ... \u001b[?25ldone\n",
      "\u001b[?25h  Created wheel for sentence-transformers: filename=sentence_transformers-2.2.0-py3-none-any.whl size=120748 sha256=424d1a45fc8c1be5e7bc86374dd24be67f0bb9a314ee348ccf18be8bc50da1b0\n",
      "  Stored in directory: /Users/peterbusienei/Library/Caches/pip/wheels/2b/11/3b/32a18fb9f2253b25d3d1a06f0a84e2d516e7efa19c8c71a283\n",
      "Successfully built sentence-transformers\n",
      "Installing collected packages: tokenizers, sentencepiece, torch, regex, pillow, torchvision, sacremoses, nltk, transformers, sentence-transformers\n",
      "\u001b[33m  DEPRECATION: Configuring installation scheme with distutils config files is deprecated and will no longer work in the near future. If you are using a Homebrew or Linuxbrew Python, please see discussion at https://github.com/Homebrew/homebrew-core/issues/76621\u001b[0m\u001b[33m\n",
      "\u001b[0m\u001b[33m  DEPRECATION: Configuring installation scheme with distutils config files is deprecated and will no longer work in the near future. If you are using a Homebrew or Linuxbrew Python, please see discussion at https://github.com/Homebrew/homebrew-core/issues/76621\u001b[0m\u001b[33m\n",
      "\u001b[0m\u001b[33m  DEPRECATION: Configuring installation scheme with distutils config files is deprecated and will no longer work in the near future. If you are using a Homebrew or Linuxbrew Python, please see discussion at https://github.com/Homebrew/homebrew-core/issues/76621\u001b[0m\u001b[33m\n",
      "\u001b[0m\u001b[33m  DEPRECATION: Configuring installation scheme with distutils config files is deprecated and will no longer work in the near future. If you are using a Homebrew or Linuxbrew Python, please see discussion at https://github.com/Homebrew/homebrew-core/issues/76621\u001b[0m\u001b[33m\n",
      "\u001b[0m  Attempting uninstall: pillow\n",
      "    Found existing installation: Pillow 8.3.2\n",
      "    Uninstalling Pillow-8.3.2:\n",
      "      Successfully uninstalled Pillow-8.3.2\n",
      "\u001b[33m  DEPRECATION: Configuring installation scheme with distutils config files is deprecated and will no longer work in the near future. If you are using a Homebrew or Linuxbrew Python, please see discussion at https://github.com/Homebrew/homebrew-core/issues/76621\u001b[0m\u001b[33m\n",
      "\u001b[0m\u001b[33m  DEPRECATION: Configuring installation scheme with distutils config files is deprecated and will no longer work in the near future. If you are using a Homebrew or Linuxbrew Python, please see discussion at https://github.com/Homebrew/homebrew-core/issues/76621\u001b[0m\u001b[33m\n",
      "\u001b[0m\u001b[33m  DEPRECATION: Configuring installation scheme with distutils config files is deprecated and will no longer work in the near future. If you are using a Homebrew or Linuxbrew Python, please see discussion at https://github.com/Homebrew/homebrew-core/issues/76621\u001b[0m\u001b[33m\n",
      "\u001b[0m\u001b[33m  DEPRECATION: Configuring installation scheme with distutils config files is deprecated and will no longer work in the near future. If you are using a Homebrew or Linuxbrew Python, please see discussion at https://github.com/Homebrew/homebrew-core/issues/76621\u001b[0m\u001b[33m\n"
     ]
    },
    {
     "name": "stdout",
     "output_type": "stream",
     "text": [
      "\u001b[0m\u001b[33m  DEPRECATION: Configuring installation scheme with distutils config files is deprecated and will no longer work in the near future. If you are using a Homebrew or Linuxbrew Python, please see discussion at https://github.com/Homebrew/homebrew-core/issues/76621\u001b[0m\u001b[33m\n",
      "\u001b[0m\u001b[33m  DEPRECATION: Configuring installation scheme with distutils config files is deprecated and will no longer work in the near future. If you are using a Homebrew or Linuxbrew Python, please see discussion at https://github.com/Homebrew/homebrew-core/issues/76621\u001b[0m\u001b[33m\n",
      "\u001b[0m\u001b[33mDEPRECATION: Configuring installation scheme with distutils config files is deprecated and will no longer work in the near future. If you are using a Homebrew or Linuxbrew Python, please see discussion at https://github.com/Homebrew/homebrew-core/issues/76621\u001b[0m\u001b[33m\n",
      "\u001b[0mSuccessfully installed nltk-3.7 pillow-9.0.1 regex-2022.3.2 sacremoses-0.0.47 sentence-transformers-2.2.0 sentencepiece-0.1.96 tokenizers-0.11.6 torch-1.11.0 torchvision-0.12.0 transformers-4.17.0\n"
     ]
    }
   ],
   "source": [
    "!pip install -U sentence-transformers"
   ]
  },
  {
   "cell_type": "code",
   "execution_count": 3,
   "id": "7c674e15",
   "metadata": {
    "id": "K6AuxpNuNJB2"
   },
   "outputs": [],
   "source": [
    "from sentence_transformers import SentenceTransformer, util\n",
    "import numpy as np\n",
    "import pandas as pd"
   ]
  },
  {
   "cell_type": "code",
   "execution_count": 4,
   "id": "9f8bae4d",
   "metadata": {
    "colab": {
     "base_uri": "https://localhost:8080/"
    },
    "id": "RBJmXkeCNNG1",
    "outputId": "275ddd06-f801-4d9b-85dd-ef9c70ff81d6"
   },
   "outputs": [
    {
     "data": {
      "text/plain": [
       "array([[ 0.02671184, -0.00307606,  0.01811073, ...,  0.08794652,\n",
       "        -0.01698122, -0.04554106],\n",
       "       [-0.00468118, -0.06231824, -0.0260776 , ...,  0.11528901,\n",
       "         0.02018194, -0.01833341],\n",
       "       [-0.02323229,  0.03903552,  0.005878  , ...,  0.04989962,\n",
       "        -0.0094997 , -0.00127161],\n",
       "       ...,\n",
       "       [-0.01831272, -0.02906192, -0.03881638, ..., -0.01849003,\n",
       "         0.00707878, -0.03144346],\n",
       "       [-0.04210049,  0.00465329, -0.01031839, ...,  0.04425324,\n",
       "         0.01666035, -0.10110734],\n",
       "       [ 0.00874317,  0.02460732, -0.10283821, ..., -0.05908803,\n",
       "        -0.05419892,  0.01261293]])"
      ]
     },
     "execution_count": 4,
     "metadata": {},
     "output_type": "execute_result"
    }
   ],
   "source": [
    "# Load document embeddings\n",
    "doc_emb = np.loadtxt(\"abstract-embed.txt\", dtype=float)\n",
    "doc_emb"
   ]
  },
  {
   "cell_type": "code",
   "execution_count": 5,
   "id": "3b9a9d55",
   "metadata": {
    "colab": {
     "base_uri": "https://localhost:8080/",
     "height": 206
    },
    "id": "25UgXGLeXx2U",
    "outputId": "5edda1f7-fc18-436f-bda0-8cec9a76a7bb"
   },
   "outputs": [
    {
     "data": {
      "text/html": [
       "<div>\n",
       "<style scoped>\n",
       "    .dataframe tbody tr th:only-of-type {\n",
       "        vertical-align: middle;\n",
       "    }\n",
       "\n",
       "    .dataframe tbody tr th {\n",
       "        vertical-align: top;\n",
       "    }\n",
       "\n",
       "    .dataframe thead th {\n",
       "        text-align: right;\n",
       "    }\n",
       "</style>\n",
       "<table border=\"1\" class=\"dataframe\">\n",
       "  <thead>\n",
       "    <tr style=\"text-align: right;\">\n",
       "      <th></th>\n",
       "      <th>Unique ID</th>\n",
       "      <th>Name</th>\n",
       "      <th>Description</th>\n",
       "      <th>Activity Code</th>\n",
       "      <th>Start Time</th>\n",
       "      <th>End Time</th>\n",
       "      <th>Location Name</th>\n",
       "    </tr>\n",
       "  </thead>\n",
       "  <tbody>\n",
       "    <tr>\n",
       "      <th>0</th>\n",
       "      <td>03D0227A-DCA8-474D-9677-414D3F780605</td>\n",
       "      <td>Keynote - 2021: The Tipping Point for Data Lit...</td>\n",
       "      <td>A look at the rise of data literacy, and the c...</td>\n",
       "      <td>keynote1</td>\n",
       "      <td>2021-10-18 8:00</td>\n",
       "      <td>2021-10-18 8:45</td>\n",
       "      <td>Ballroom</td>\n",
       "    </tr>\n",
       "    <tr>\n",
       "      <th>1</th>\n",
       "      <td>AEDD11FF-C97B-4365-A66B-A92A38E64AC9</td>\n",
       "      <td>Leveraging Cognitive Diversity In Your Data Team</td>\n",
       "      <td>What is Cognitive Diversity, and what does it ...</td>\n",
       "      <td>session015</td>\n",
       "      <td>2021-10-18 14:30</td>\n",
       "      <td>2021-10-18 15:30</td>\n",
       "      <td>Broadway B</td>\n",
       "    </tr>\n",
       "    <tr>\n",
       "      <th>2</th>\n",
       "      <td>35FB47CB-D26E-4AB0-A344-C52DF023C6FC</td>\n",
       "      <td>How to use data analytics to grow post-pandemi...</td>\n",
       "      <td>This presentation will focus on how to utilize...</td>\n",
       "      <td>workshop006</td>\n",
       "      <td>2021-10-18 9:00</td>\n",
       "      <td>2021-10-18 10:30</td>\n",
       "      <td>Broadway C</td>\n",
       "    </tr>\n",
       "    <tr>\n",
       "      <th>3</th>\n",
       "      <td>5085A26E-1739-432F-9472-BE4C1AF696D0</td>\n",
       "      <td>People Analytics: Using Data to Manage People ...</td>\n",
       "      <td>Most business planning processes focus on stra...</td>\n",
       "      <td>workshop005</td>\n",
       "      <td>2021-10-18 9:00</td>\n",
       "      <td>2021-10-18 10:30</td>\n",
       "      <td>Broadway B</td>\n",
       "    </tr>\n",
       "    <tr>\n",
       "      <th>4</th>\n",
       "      <td>6C12B9E4-1249-4675-A281-53C90D66BB5E</td>\n",
       "      <td>Get Your Model to Production Faster by Wrappin...</td>\n",
       "      <td>You've prepared the data and trained a model i...</td>\n",
       "      <td>workshop002</td>\n",
       "      <td>2021-10-18 9:00</td>\n",
       "      <td>2021-10-18 10:30</td>\n",
       "      <td>Cumberland 3 &amp; 4</td>\n",
       "    </tr>\n",
       "  </tbody>\n",
       "</table>\n",
       "</div>"
      ],
      "text/plain": [
       "                              Unique ID  \\\n",
       "0  03D0227A-DCA8-474D-9677-414D3F780605   \n",
       "1  AEDD11FF-C97B-4365-A66B-A92A38E64AC9   \n",
       "2  35FB47CB-D26E-4AB0-A344-C52DF023C6FC   \n",
       "3  5085A26E-1739-432F-9472-BE4C1AF696D0   \n",
       "4  6C12B9E4-1249-4675-A281-53C90D66BB5E   \n",
       "\n",
       "                                                Name  \\\n",
       "0  Keynote - 2021: The Tipping Point for Data Lit...   \n",
       "1   Leveraging Cognitive Diversity In Your Data Team   \n",
       "2  How to use data analytics to grow post-pandemi...   \n",
       "3  People Analytics: Using Data to Manage People ...   \n",
       "4  Get Your Model to Production Faster by Wrappin...   \n",
       "\n",
       "                                         Description Activity Code  \\\n",
       "0  A look at the rise of data literacy, and the c...      keynote1   \n",
       "1  What is Cognitive Diversity, and what does it ...    session015   \n",
       "2  This presentation will focus on how to utilize...   workshop006   \n",
       "3  Most business planning processes focus on stra...   workshop005   \n",
       "4  You've prepared the data and trained a model i...   workshop002   \n",
       "\n",
       "         Start Time          End Time     Location Name  \n",
       "0   2021-10-18 8:00   2021-10-18 8:45          Ballroom  \n",
       "1  2021-10-18 14:30  2021-10-18 15:30        Broadway B  \n",
       "2   2021-10-18 9:00  2021-10-18 10:30        Broadway C  \n",
       "3   2021-10-18 9:00  2021-10-18 10:30        Broadway B  \n",
       "4   2021-10-18 9:00  2021-10-18 10:30  Cumberland 3 & 4  "
      ]
     },
     "execution_count": 5,
     "metadata": {},
     "output_type": "execute_result"
    }
   ],
   "source": [
    "# Load data\n",
    "df = pd.read_csv(\"sessions.csv\", usecols=['Unique ID', 'Name', 'Description', 'Activity Code', 'Start Time', 'End Time', 'Location Name'])\n",
    "df.head()"
   ]
  },
  {
   "cell_type": "code",
   "execution_count": 6,
   "id": "4166f1cc",
   "metadata": {
    "id": "COWzpWVxYG2l"
   },
   "outputs": [],
   "source": [
    "# Get attributes from dataframe\n",
    "docs = list(df[\"Description\"])\n",
    "titles = list(df[\"Name\"])\n",
    "start_times = list(df[\"Start Time\"])\n",
    "end_times = list(df[\"End Time\"])\n",
    "locations = list(df[\"Location Name\"])"
   ]
  },
  {
   "cell_type": "code",
   "execution_count": 7,
   "id": "ae9d817f",
   "metadata": {
    "colab": {
     "base_uri": "https://localhost:8080/",
     "height": 465,
     "referenced_widgets": [
      "aa8fc7edca04459ba2f516d5440ae7ee",
      "f4617a4778454921a23c1c7bd3ee0925",
      "a86102215356428ea49207531f71db43",
      "666bc7fc782b48d0b6d60645783d147c",
      "e341135b24d14dceb563fe2b275cc8cc",
      "8d866e5a519f419bb2dc86e3f964b6d7",
      "59f9cd68143346bfa3eef20d95fe13ae",
      "c560265a0d4f4f6490fbc3875d975867",
      "fd8df84ebb624ed2aa9ed4426cfd73f9",
      "8fea23780e004e9d94cdf590adaeca15",
      "06e41f55406b43b1ba7404ad6c34de5b",
      "d1c897345cbb4b72a7b4de9c570ba443",
      "44b2bf55d7294e4c8bc20a00207be39b",
      "c0ba52a0cb0a4622b17372998ebb5cb1",
      "a71d8795cb034214b7c2f83f84100d37",
      "4ac9e68b6d334bb49eec4613fbf4be7c",
      "3c94a6dd052c47a78bf5a2d1f2b007f9",
      "b7cd5b2a88e64f59b47b7514803b6b8c",
      "22a879e706084240a55208e624db710e",
      "d54a12a555764d6896d6985913c5660d",
      "b6a2e193d96c4e71bb1c0a645100f640",
      "b81af7cc6b494b99aebbe046ee9cc558",
      "5f625d74f1be4184b162ede3450458e6",
      "9356184de223407e947b602442f671b5",
      "936a1c29ebe5472dab617d2ceb104557",
      "96a95469c16a42a399dc2ed209318429",
      "bb0a75f2eef5492298cf57e087bab72f",
      "a21fac253433460a8ee5fe4cc6c088a7",
      "4efb4a50796846dd9ba4fbb9222db9fc",
      "18945eda74c944f4bd32241bb01553de",
      "64ab4474dd6d4c2fa4b355997ceb3ed5",
      "412b878cf14e40679a1ccc20ea0210d7",
      "d828fc2efa0f4aad9a41d487dbae04e4",
      "9cd1d443bfc64dc387c27c7a1b1c506f",
      "c5d46f153bad41dcb702d6a6e7881e0f",
      "c70a44ed9d8840dd8e15f167d0766936",
      "9fd85a57b51b40b287045dbaa4b3eb38",
      "940b5f471599401ea1bbdb061fba38c1",
      "0474202424774576bcef07c2fcc00009",
      "ff35da57e7524364b7e98f730f6473bf",
      "20b93c1c2ca2455f87a4cd106947ebc0",
      "0c7a789184484847a7e819064382138b",
      "b758dc5c71954a32a4ba4624e1012092",
      "4072e27d56f643ccb1e1ec992d4b8d0e",
      "0126200675e945e6a6a4ce6eaaf4a120",
      "0b5b9237fe3946f8afe1a9d179baaae5",
      "1ca1382c7f9f45058cf5fe336e8d4a77",
      "646b9ec2156c4fffa6332c2a45ae4819",
      "51f605b7c49c43568e2441d5aff51264",
      "2cf649f311f24337bf8245d266ce9e0d",
      "8e7c2c9274c04e1b8e686403ab3445dd",
      "f254cb5872bc474e9be7c1f1d1f6a95f",
      "81d32efdbf2c4f9099f27733bbb6cfe3",
      "54974b1ffe704c57a15237c1e3eb934f",
      "a1e1d2247aab4f7880cfc7d1cefc76e3",
      "8592929e3727433daaca2980d54d8645",
      "d8afb09681df48c8b15ab5492fcf177a",
      "4df2a4e81c0b481e9098522bf5edd895",
      "ec22358e420b4ce59ba91a5c0402ca5d",
      "6693a274673946b2849a03302d5540e8",
      "e7deda887cd449df82a912181e24dc37",
      "3012ffd6a0f54472830787bda04fe06b",
      "9e337e20542d4881a581539a8b7c86f4",
      "5394ed6e94344d178adf1af0c0025470",
      "45415546699a48d5bd37dc711fbbfe25",
      "5b69c9f35e0546ddba1569233df5232d",
      "a6edf21cdc2a4827981515ef01289be0",
      "d257c104cfb441048b84ca94188fa666",
      "e90b2d217db643b19759a6f9a1249952",
      "b6cd917dd4b7419696a8092eac1878dc",
      "4d704057cc434b21847cd745090ee59b",
      "a9454ed5ac2b4e6ea2c5ef02af56fffb",
      "f13e2770f8bf4e43b7f8d3eb327dd0de",
      "bcffbe917d6c4374b60bec760892fe1a",
      "6f4e3942254a43edaeef21882e323ef1",
      "27a10101f94f41e3af5b7454ac12b430",
      "8f3d95cec00f4b28aee444f6747187ae",
      "62f7639cdcb04c80985dacbfb75e2a55",
      "7b51a306b5bf4de78c9cf7b0bc20498b",
      "c26f8892b1a84efe8c62f47f0590e9e3",
      "59921dc14cc6412fb1264eda3edd5940",
      "5c0386fffe3a40c5b75980267f5943df",
      "dc53f2a95ad94004b8102193588933a1",
      "7d8fa9efbe274c598c5aa89b191e3106",
      "cf2b3de4ebcd40c8a5ded79f39feeeb8",
      "83015d64323845989f8e53bf255938ce",
      "0a1d6b55f7bf4c0db6fbda20122f1f70",
      "4b8eb8beb74b41cfbacf2e219e846eea",
      "288ac4325f394673b6201c5a34bcf94c",
      "7328f591009f4ebb942826cce19d6c4d",
      "19fab58644cd4b0ca2fc70dc0d76a502",
      "016fd9fdbb9542af8204c32dea7b30be",
      "b3bef63f8f6f4a7a97211979ab12c96a",
      "09e56fbd0a2746478332b9f36e024716",
      "28196e255a844534b870683957f2e910",
      "69b057bc4734408da26f6bd7f540758b",
      "906cc827f5a2487d8631283cfe4fdc51",
      "d97f99484d7d4578812074f4061e1bcb",
      "55d3c0c7e64141ecbcf992b7c6fb8859",
      "cc116e53523c4eaf87841d877d5c0892",
      "43f36b6bd9484f2c919f9acf5abf72b8",
      "35836b03903f4b92a5b79f8a0b906659",
      "79a2f0d703814952b720fe5ec165edc7",
      "b99423d5464f4c8581c6082fbfec55b8",
      "bff5feee594a4b528ab95941032ca677",
      "f0601e6adf0140d9a77aeee93c574233",
      "1ca893e2e2cd4d569ac9a12279f9bbd8",
      "3fe7ec5a928846b9a4985d98e4b881c8",
      "ddd9a3d700e9466d935a3748e450f2f3",
      "c4b86a53cd2a4e0a850db46dac51dfa1",
      "60c81bf425ca41c49221d2ae1e6d43b8",
      "5d40ceaad386409e95f815d71f97acba",
      "fb14731bbf634d7c8179c42ee7c2d8fd",
      "55b648665b8746968eae53f71679dd93",
      "f0fb0a9a80474670901aa2badadfa6c0",
      "4692d0e163c742a0acadf1c0ff8abdc5",
      "b4edc61d6b0748278c002671691f1758",
      "1f79b34147e14e8f85dd2013eaa39a86",
      "5a566ab721044940ac0e6fd93bf20c0b",
      "a9985dcd549b4f34a0fc5b4e1d057e47",
      "f6b65c49d3e94a049c2411f49128d60f",
      "fdc17f53ed274f6a9faedfdf66456efc",
      "d3330523fe1340d19a9d9ab203d8ac18",
      "21bb89750de94d7fa77d01fc44a8b54b",
      "4537d5cfd17f4d5cbe6563e1b270fd20",
      "ef7a3415f5dc4279b021d93542ae3367",
      "4986209e6818485da2635f42c3ed179c",
      "607dbc1e40c6469fa2094ab5858d5b4c",
      "b65be7a59f7f4c9e9641a6f48b4e1d5b",
      "81440f1f8814499db392be89b39b1d4b",
      "cfb9134fc92f422d9f3679ce5f447722",
      "f93fe79bfdd544f28141806d617b193e",
      "831b6dd1ca34408fafe6104cd278cff6",
      "1dbce28914bf4d9792f37165a96a9e23",
      "2528a648a8144e10b21d1f8e4ed41682",
      "3818d192c641428a8866b2d175fe26c0",
      "7a589d382bcb430cb052c8a38657b4e1",
      "d119d3cbf02648c69fc9692491c4ab59",
      "6d8220eed0074d6b8256aef05440d188",
      "eef16f8db14c4d4984fecfccb665aebc",
      "9d8275e95eaf4502b0d422a269d4cde3",
      "f691ea3baf6a4025a2ee520ff53aa66c",
      "2fb499c34c1c4a00bc69c1cd41978ab1",
      "9be411128c56480bb8804472e7a40090",
      "2690d96a220f41889dc1a0b375dff4de",
      "55f04d3cef6f4aedb2fff7ac77ed6f85",
      "3927d5fbb11545a7bcaa87ebe2224d23",
      "d3f55ec1bfbb47d29030f546e2ff0967",
      "32a3e23216df4143bdafe0e9ed56ce0c",
      "39b4e34c50e341b1b7df2af5798254f8",
      "71b5ccfc2bc34c579e779ab400d7c69d",
      "86b823b5e952473fbae115121bd16ea1",
      "c553f5e5c4664cc4907afaf15064cba1",
      "49525375e11f4019a22deee2bbbae594"
     ]
    },
    "id": "MMAeDGrSXdbI",
    "outputId": "4cdd0751-1b03-42b3-f4ea-8dd93b27f65b"
   },
   "outputs": [
    {
     "name": "stderr",
     "output_type": "stream",
     "text": [
      "2022-03-10 16:26:15.979 INFO    sentence_transformers.SentenceTransformer: Load pretrained SentenceTransformer: sentence-transformers/multi-qa-MiniLM-L6-cos-v1\n",
      "2022-03-10 16:26:16.458 INFO    filelock: Lock 140343993237568 acquired on /Users/peterbusienei/.cache/torch/sentence_transformers/sentence-transformers--multi-qa-MiniLM-L6-cos-v1.1de23253abdbc620a58070d408055cc9a8439375/.gitattributes.lock\n"
     ]
    },
    {
     "data": {
      "application/vnd.jupyter.widget-view+json": {
       "model_id": "d6461b9694f44d95b07fed618f86881c",
       "version_major": 2,
       "version_minor": 0
      },
      "text/plain": [
       "Downloading:   0%|          | 0.00/737 [00:00<?, ?B/s]"
      ]
     },
     "metadata": {},
     "output_type": "display_data"
    },
    {
     "name": "stderr",
     "output_type": "stream",
     "text": [
      "2022-03-10 16:26:16.681 INFO    filelock: Lock 140343993237568 released on /Users/peterbusienei/.cache/torch/sentence_transformers/sentence-transformers--multi-qa-MiniLM-L6-cos-v1.1de23253abdbc620a58070d408055cc9a8439375/.gitattributes.lock\n",
      "2022-03-10 16:26:16.830 INFO    filelock: Lock 140344256744752 acquired on /Users/peterbusienei/.cache/torch/sentence_transformers/sentence-transformers--multi-qa-MiniLM-L6-cos-v1.1de23253abdbc620a58070d408055cc9a8439375/README.md.lock\n"
     ]
    },
    {
     "data": {
      "application/vnd.jupyter.widget-view+json": {
       "model_id": "9da5f7e5a73a4f54ac2de2877210efea",
       "version_major": 2,
       "version_minor": 0
      },
      "text/plain": [
       "Downloading:   0%|          | 0.00/9.22k [00:00<?, ?B/s]"
      ]
     },
     "metadata": {},
     "output_type": "display_data"
    },
    {
     "name": "stderr",
     "output_type": "stream",
     "text": [
      "2022-03-10 16:26:17.010 INFO    filelock: Lock 140344256744752 released on /Users/peterbusienei/.cache/torch/sentence_transformers/sentence-transformers--multi-qa-MiniLM-L6-cos-v1.1de23253abdbc620a58070d408055cc9a8439375/README.md.lock\n",
      "2022-03-10 16:26:17.165 INFO    filelock: Lock 140344256744464 acquired on /Users/peterbusienei/.cache/torch/sentence_transformers/sentence-transformers--multi-qa-MiniLM-L6-cos-v1.1de23253abdbc620a58070d408055cc9a8439375/config.json.lock\n"
     ]
    },
    {
     "data": {
      "application/vnd.jupyter.widget-view+json": {
       "model_id": "a6476052bf444790893f905858e8cd2e",
       "version_major": 2,
       "version_minor": 0
      },
      "text/plain": [
       "Downloading:   0%|          | 0.00/612 [00:00<?, ?B/s]"
      ]
     },
     "metadata": {},
     "output_type": "display_data"
    },
    {
     "name": "stderr",
     "output_type": "stream",
     "text": [
      "2022-03-10 16:26:17.343 INFO    filelock: Lock 140344256744464 released on /Users/peterbusienei/.cache/torch/sentence_transformers/sentence-transformers--multi-qa-MiniLM-L6-cos-v1.1de23253abdbc620a58070d408055cc9a8439375/config.json.lock\n",
      "2022-03-10 16:26:17.494 INFO    filelock: Lock 140344331056080 acquired on /Users/peterbusienei/.cache/torch/sentence_transformers/sentence-transformers--multi-qa-MiniLM-L6-cos-v1.1de23253abdbc620a58070d408055cc9a8439375/config_sentence_transformers.json.lock\n"
     ]
    },
    {
     "data": {
      "application/vnd.jupyter.widget-view+json": {
       "model_id": "26169c3e07cb4f11a0c26bfc2c6d1f10",
       "version_major": 2,
       "version_minor": 0
      },
      "text/plain": [
       "Downloading:   0%|          | 0.00/116 [00:00<?, ?B/s]"
      ]
     },
     "metadata": {},
     "output_type": "display_data"
    },
    {
     "name": "stderr",
     "output_type": "stream",
     "text": [
      "2022-03-10 16:26:17.670 INFO    filelock: Lock 140344331056080 released on /Users/peterbusienei/.cache/torch/sentence_transformers/sentence-transformers--multi-qa-MiniLM-L6-cos-v1.1de23253abdbc620a58070d408055cc9a8439375/config_sentence_transformers.json.lock\n",
      "2022-03-10 16:26:17.808 INFO    filelock: Lock 140344256744464 acquired on /Users/peterbusienei/.cache/torch/sentence_transformers/sentence-transformers--multi-qa-MiniLM-L6-cos-v1.1de23253abdbc620a58070d408055cc9a8439375/data_config.json.lock\n"
     ]
    },
    {
     "data": {
      "application/vnd.jupyter.widget-view+json": {
       "model_id": "3e74d44427544e5b95113c241efc3e67",
       "version_major": 2,
       "version_minor": 0
      },
      "text/plain": [
       "Downloading:   0%|          | 0.00/25.5k [00:00<?, ?B/s]"
      ]
     },
     "metadata": {},
     "output_type": "display_data"
    },
    {
     "name": "stderr",
     "output_type": "stream",
     "text": [
      "2022-03-10 16:26:17.989 INFO    filelock: Lock 140344256744464 released on /Users/peterbusienei/.cache/torch/sentence_transformers/sentence-transformers--multi-qa-MiniLM-L6-cos-v1.1de23253abdbc620a58070d408055cc9a8439375/data_config.json.lock\n",
      "2022-03-10 16:26:18.127 INFO    filelock: Lock 140344256744752 acquired on /Users/peterbusienei/.cache/torch/sentence_transformers/sentence-transformers--multi-qa-MiniLM-L6-cos-v1.1de23253abdbc620a58070d408055cc9a8439375/modules.json.lock\n"
     ]
    },
    {
     "data": {
      "application/vnd.jupyter.widget-view+json": {
       "model_id": "3bda0ae448034939a0ef7a1580564a96",
       "version_major": 2,
       "version_minor": 0
      },
      "text/plain": [
       "Downloading:   0%|          | 0.00/349 [00:00<?, ?B/s]"
      ]
     },
     "metadata": {},
     "output_type": "display_data"
    },
    {
     "name": "stderr",
     "output_type": "stream",
     "text": [
      "2022-03-10 16:26:18.296 INFO    filelock: Lock 140344256744752 released on /Users/peterbusienei/.cache/torch/sentence_transformers/sentence-transformers--multi-qa-MiniLM-L6-cos-v1.1de23253abdbc620a58070d408055cc9a8439375/modules.json.lock\n",
      "2022-03-10 16:26:18.524 INFO    filelock: Lock 140343993237760 acquired on /Users/peterbusienei/.cache/torch/sentence_transformers/sentence-transformers--multi-qa-MiniLM-L6-cos-v1.1de23253abdbc620a58070d408055cc9a8439375/pytorch_model.bin.lock\n"
     ]
    },
    {
     "data": {
      "application/vnd.jupyter.widget-view+json": {
       "model_id": "3793213aa3274182a93242a96d91b31c",
       "version_major": 2,
       "version_minor": 0
      },
      "text/plain": [
       "Downloading:   0%|          | 0.00/90.9M [00:00<?, ?B/s]"
      ]
     },
     "metadata": {},
     "output_type": "display_data"
    },
    {
     "name": "stderr",
     "output_type": "stream",
     "text": [
      "2022-03-10 16:26:21.354 INFO    filelock: Lock 140343993237760 released on /Users/peterbusienei/.cache/torch/sentence_transformers/sentence-transformers--multi-qa-MiniLM-L6-cos-v1.1de23253abdbc620a58070d408055cc9a8439375/pytorch_model.bin.lock\n",
      "2022-03-10 16:26:21.490 INFO    filelock: Lock 140344331056272 acquired on /Users/peterbusienei/.cache/torch/sentence_transformers/sentence-transformers--multi-qa-MiniLM-L6-cos-v1.1de23253abdbc620a58070d408055cc9a8439375/sentence_bert_config.json.lock\n"
     ]
    },
    {
     "data": {
      "application/vnd.jupyter.widget-view+json": {
       "model_id": "443b0f15f65847618f353d62ff0746c2",
       "version_major": 2,
       "version_minor": 0
      },
      "text/plain": [
       "Downloading:   0%|          | 0.00/53.0 [00:00<?, ?B/s]"
      ]
     },
     "metadata": {},
     "output_type": "display_data"
    },
    {
     "name": "stderr",
     "output_type": "stream",
     "text": [
      "2022-03-10 16:26:21.650 INFO    filelock: Lock 140344331056272 released on /Users/peterbusienei/.cache/torch/sentence_transformers/sentence-transformers--multi-qa-MiniLM-L6-cos-v1.1de23253abdbc620a58070d408055cc9a8439375/sentence_bert_config.json.lock\n",
      "2022-03-10 16:26:21.790 INFO    filelock: Lock 140344256744464 acquired on /Users/peterbusienei/.cache/torch/sentence_transformers/sentence-transformers--multi-qa-MiniLM-L6-cos-v1.1de23253abdbc620a58070d408055cc9a8439375/special_tokens_map.json.lock\n"
     ]
    },
    {
     "data": {
      "application/vnd.jupyter.widget-view+json": {
       "model_id": "6c8a24778883417ea9b18efd9f6bbcde",
       "version_major": 2,
       "version_minor": 0
      },
      "text/plain": [
       "Downloading:   0%|          | 0.00/112 [00:00<?, ?B/s]"
      ]
     },
     "metadata": {},
     "output_type": "display_data"
    },
    {
     "name": "stderr",
     "output_type": "stream",
     "text": [
      "2022-03-10 16:26:21.951 INFO    filelock: Lock 140344256744464 released on /Users/peterbusienei/.cache/torch/sentence_transformers/sentence-transformers--multi-qa-MiniLM-L6-cos-v1.1de23253abdbc620a58070d408055cc9a8439375/special_tokens_map.json.lock\n",
      "2022-03-10 16:26:22.088 INFO    filelock: Lock 140343992668064 acquired on /Users/peterbusienei/.cache/torch/sentence_transformers/sentence-transformers--multi-qa-MiniLM-L6-cos-v1.1de23253abdbc620a58070d408055cc9a8439375/tokenizer.json.lock\n"
     ]
    },
    {
     "data": {
      "application/vnd.jupyter.widget-view+json": {
       "model_id": "3542e12943b742b6b9371adea0b891fa",
       "version_major": 2,
       "version_minor": 0
      },
      "text/plain": [
       "Downloading:   0%|          | 0.00/466k [00:00<?, ?B/s]"
      ]
     },
     "metadata": {},
     "output_type": "display_data"
    },
    {
     "name": "stderr",
     "output_type": "stream",
     "text": [
      "2022-03-10 16:26:22.359 INFO    filelock: Lock 140343992668064 released on /Users/peterbusienei/.cache/torch/sentence_transformers/sentence-transformers--multi-qa-MiniLM-L6-cos-v1.1de23253abdbc620a58070d408055cc9a8439375/tokenizer.json.lock\n",
      "2022-03-10 16:26:22.495 INFO    filelock: Lock 140344256744752 acquired on /Users/peterbusienei/.cache/torch/sentence_transformers/sentence-transformers--multi-qa-MiniLM-L6-cos-v1.1de23253abdbc620a58070d408055cc9a8439375/tokenizer_config.json.lock\n"
     ]
    },
    {
     "data": {
      "application/vnd.jupyter.widget-view+json": {
       "model_id": "9624b00448c0411a85404ad6bf83e774",
       "version_major": 2,
       "version_minor": 0
      },
      "text/plain": [
       "Downloading:   0%|          | 0.00/383 [00:00<?, ?B/s]"
      ]
     },
     "metadata": {},
     "output_type": "display_data"
    },
    {
     "name": "stderr",
     "output_type": "stream",
     "text": [
      "2022-03-10 16:26:22.661 INFO    filelock: Lock 140344256744752 released on /Users/peterbusienei/.cache/torch/sentence_transformers/sentence-transformers--multi-qa-MiniLM-L6-cos-v1.1de23253abdbc620a58070d408055cc9a8439375/tokenizer_config.json.lock\n",
      "2022-03-10 16:26:22.798 INFO    filelock: Lock 140344256744464 acquired on /Users/peterbusienei/.cache/torch/sentence_transformers/sentence-transformers--multi-qa-MiniLM-L6-cos-v1.1de23253abdbc620a58070d408055cc9a8439375/train_script.py.lock\n"
     ]
    },
    {
     "data": {
      "application/vnd.jupyter.widget-view+json": {
       "model_id": "62e979d2a6b74eee82b41aaf55d3799a",
       "version_major": 2,
       "version_minor": 0
      },
      "text/plain": [
       "Downloading:   0%|          | 0.00/13.8k [00:00<?, ?B/s]"
      ]
     },
     "metadata": {},
     "output_type": "display_data"
    },
    {
     "name": "stderr",
     "output_type": "stream",
     "text": [
      "2022-03-10 16:26:22.971 INFO    filelock: Lock 140344256744464 released on /Users/peterbusienei/.cache/torch/sentence_transformers/sentence-transformers--multi-qa-MiniLM-L6-cos-v1.1de23253abdbc620a58070d408055cc9a8439375/train_script.py.lock\n",
      "2022-03-10 16:26:23.107 INFO    filelock: Lock 140344331056272 acquired on /Users/peterbusienei/.cache/torch/sentence_transformers/sentence-transformers--multi-qa-MiniLM-L6-cos-v1.1de23253abdbc620a58070d408055cc9a8439375/vocab.txt.lock\n"
     ]
    },
    {
     "data": {
      "application/vnd.jupyter.widget-view+json": {
       "model_id": "72cdbe68420448b590cef94a2447a6d3",
       "version_major": 2,
       "version_minor": 0
      },
      "text/plain": [
       "Downloading:   0%|          | 0.00/232k [00:00<?, ?B/s]"
      ]
     },
     "metadata": {},
     "output_type": "display_data"
    },
    {
     "name": "stderr",
     "output_type": "stream",
     "text": [
      "2022-03-10 16:26:23.353 INFO    filelock: Lock 140344331056272 released on /Users/peterbusienei/.cache/torch/sentence_transformers/sentence-transformers--multi-qa-MiniLM-L6-cos-v1.1de23253abdbc620a58070d408055cc9a8439375/vocab.txt.lock\n",
      "2022-03-10 16:26:23.493 INFO    filelock: Lock 140343993084416 acquired on /Users/peterbusienei/.cache/torch/sentence_transformers/sentence-transformers--multi-qa-MiniLM-L6-cos-v1.1de23253abdbc620a58070d408055cc9a8439375/1_Pooling/config.json.lock\n"
     ]
    },
    {
     "data": {
      "application/vnd.jupyter.widget-view+json": {
       "model_id": "c51ee950c5dd4cb88131f7b5eb22ee7c",
       "version_major": 2,
       "version_minor": 0
      },
      "text/plain": [
       "Downloading:   0%|          | 0.00/190 [00:00<?, ?B/s]"
      ]
     },
     "metadata": {},
     "output_type": "display_data"
    },
    {
     "name": "stderr",
     "output_type": "stream",
     "text": [
      "2022-03-10 16:26:23.659 INFO    filelock: Lock 140343993084416 released on /Users/peterbusienei/.cache/torch/sentence_transformers/sentence-transformers--multi-qa-MiniLM-L6-cos-v1.1de23253abdbc620a58070d408055cc9a8439375/1_Pooling/config.json.lock\n",
      "2022-03-10 16:26:24.120 INFO    sentence_transformers.SentenceTransformer: Use pytorch device: cpu\n"
     ]
    }
   ],
   "source": [
    "# Load model \n",
    "model = SentenceTransformer('sentence-transformers/multi-qa-MiniLM-L6-cos-v1')"
   ]
  },
  {
   "cell_type": "code",
   "execution_count": 12,
   "id": "460bcd3e",
   "metadata": {
    "colab": {
     "base_uri": "https://localhost:8080/"
    },
    "id": "f0_yph9dP6HW",
    "outputId": "2b0843e1-29c8-47cf-b4bd-30e9fad7d0ab"
   },
   "outputs": [
    {
     "name": "stdout",
     "output_type": "stream",
     "text": [
      "Enter your query: health\n"
     ]
    },
    {
     "data": {
      "application/vnd.jupyter.widget-view+json": {
       "model_id": "0a54c69bf63d4b8b98987813426eac4a",
       "version_major": 2,
       "version_minor": 0
      },
      "text/plain": [
       "Batches:   0%|          | 0/1 [00:00<?, ?it/s]"
      ]
     },
     "metadata": {},
     "output_type": "display_data"
    },
    {
     "name": "stdout",
     "output_type": "stream",
     "text": [
      " Your top 3 most similar sessions in the Summit:\n",
      "Score: 0.395849\n",
      "Title: Detecting Disease Biomarkers from Multimodal Healthcare Data using Machine Learning\n",
      "Abstract: Healthcare data exists in multiple modalities. For example, there are audio transcriptions, medical images, unstructured clinical notes and structured clinical records. For a machine learning model to achieve real world performance, its important to consider information embedded in all these data modalities, just like a physician would do when making a clinical decision about the patient. In this talk, I will present our work in this area and discuss the possibility of future advancements.\n",
      "Location: Broadway C\n",
      "\n",
      "\n",
      "Score: 0.393736\n",
      "Title: How to use data analytics to grow post-pandemic volume\n",
      "Abstract: This presentation will focus on how to utilize health care analytics to improve quality, increase revenue and decrease cost by identifying and engaging patients with health care needs. We will walk through simple and complex case studies ranging from case management for diabetes patients to interventions for children born with congenital heart defects. The pandemic has resulted in an exponential increase in the number of patients with gaps in best practice treatment. Data can solve these gaps.\n",
      "Location: Broadway C\n",
      "\n",
      "\n",
      "Score: 0.382834\n",
      "Title: Databricks and Tableau (Visualization Speed & Power)\n",
      "Abstract: As my professional journey through Healthcare is shaped by government policy changes, consumer trends, and global pandemics, so is my method of seeking Analytical insights shaped by the differing speed and power of the tools available. I will be telling my story of going from no experience in coding and business intelligence to teaching others about the tools of the trade, sharing my experience with all of the tools I've used along the way.\n",
      "Location: Cumberland 5 & 6\n",
      "\n",
      "\n"
     ]
    }
   ],
   "source": [
    "\n",
    "# Query\n",
    "query = input(\"Enter your query: \")\n",
    "\n",
    "#Encode query and documents\n",
    "query_emb = model.encode(query).astype(float)\n",
    "\n",
    "#Compute dot score between query and all document embeddings\n",
    "scores = util.dot_score(query_emb, doc_emb.astype(float))[0].cpu().tolist()\n",
    "\n",
    "#Combine docs & scores with other attributes\n",
    "doc_score_pairs = list(zip(docs, scores, titles, start_times, end_times, locations))\n",
    "\n",
    "# top_k results to return\n",
    "top_k=3\n",
    "print(\" Your top\", top_k, \"most similar sessions in the Summit:\")\n",
    "\n",
    "#Sort by decreasing score\n",
    "doc_score_pairs = sorted(doc_score_pairs, key=lambda x: x[1], reverse=True)\n",
    "\n",
    "\n",
    "#Output presentation recommendations\n",
    "for doc, score, title, start_time, end_time, location in doc_score_pairs[:top_k]:\n",
    "   \n",
    "    print(\"Score: %f\" %score)\n",
    "    print(\"Title: %s\" %title)\n",
    "    print(\"Abstract: %s\" %doc)\n",
    "    print(\"Location: %s\" %location)\n",
    "    f\"From {start_time} to {end_time}\"\n",
    "    print('\\n')"
   ]
  },
  {
   "cell_type": "code",
   "execution_count": null,
   "id": "e2a8cf7f",
   "metadata": {},
   "outputs": [],
   "source": []
  }
 ],
 "metadata": {
  "kernelspec": {
   "display_name": "Python 3 (ipykernel)",
   "language": "python",
   "name": "python3"
  },
  "language_info": {
   "codemirror_mode": {
    "name": "ipython",
    "version": 3
   },
   "file_extension": ".py",
   "mimetype": "text/x-python",
   "name": "python",
   "nbconvert_exporter": "python",
   "pygments_lexer": "ipython3",
   "version": "3.9.6"
  },
  "toc": {
   "base_numbering": 1,
   "nav_menu": {},
   "number_sections": true,
   "sideBar": true,
   "skip_h1_title": false,
   "title_cell": "Table of Contents",
   "title_sidebar": "Contents",
   "toc_cell": false,
   "toc_position": {},
   "toc_section_display": true,
   "toc_window_display": false
  }
 },
 "nbformat": 4,
 "nbformat_minor": 5
}
